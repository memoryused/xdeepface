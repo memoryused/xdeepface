{
 "cells": [
  {
   "cell_type": "markdown",
   "id": "59b076ef",
   "metadata": {},
   "source": [
    "# Evaluate DeepFace's Results In The Big Picture"
   ]
  },
  {
   "cell_type": "code",
   "execution_count": 1,
   "id": "79200f8c",
   "metadata": {},
   "outputs": [],
   "source": [
    "import pandas as pd\n",
    "from IPython.display import display, HTML\n",
    "from sklearn import metrics\n",
    "import matplotlib.pyplot as plt"
   ]
  },
  {
   "cell_type": "code",
   "execution_count": 2,
   "id": "bbc11592",
   "metadata": {},
   "outputs": [],
   "source": [
    "alignment = [False,True]\n",
    "models = [\"Facenet512\", \"ArcFace\"]\n",
    "detectors = [\"opencv\"]\n",
    "distance_metrics = [\"euclidean\", \"cosine\"]"
   ]
  },
  {
   "cell_type": "markdown",
   "id": "e0dabf1b",
   "metadata": {},
   "source": [
    "# Main results"
   ]
  },
  {
   "cell_type": "code",
   "execution_count": 4,
   "id": "03b09fa3",
   "metadata": {
    "scrolled": false
   },
   "outputs": [
    {
     "name": "stdout",
     "output_type": "stream",
     "text": [
      "euclidean for alignment False\n"
     ]
    },
    {
     "data": {
      "text/html": [
       "<table border=\"1\" class=\"dataframe\">\n",
       "  <thead>\n",
       "    <tr style=\"text-align: right;\">\n",
       "      <th></th>\n",
       "      <th>Facenet512</th>\n",
       "      <th>ArcFace</th>\n",
       "    </tr>\n",
       "    <tr>\n",
       "      <th>detector</th>\n",
       "      <th></th>\n",
       "      <th></th>\n",
       "    </tr>\n",
       "  </thead>\n",
       "  <tbody>\n",
       "    <tr>\n",
       "      <th>opencv</th>\n",
       "      <td>83.1</td>\n",
       "      <td>80.6</td>\n",
       "    </tr>\n",
       "  </tbody>\n",
       "</table>"
      ],
      "text/plain": [
       "<IPython.core.display.HTML object>"
      ]
     },
     "metadata": {},
     "output_type": "display_data"
    },
    {
     "data": {
      "text/html": [
       "<hr>"
      ],
      "text/plain": [
       "<IPython.core.display.HTML object>"
      ]
     },
     "metadata": {},
     "output_type": "display_data"
    },
    {
     "name": "stdout",
     "output_type": "stream",
     "text": [
      "cosine for alignment False\n"
     ]
    },
    {
     "data": {
      "text/html": [
       "<table border=\"1\" class=\"dataframe\">\n",
       "  <thead>\n",
       "    <tr style=\"text-align: right;\">\n",
       "      <th></th>\n",
       "      <th>Facenet512</th>\n",
       "      <th>ArcFace</th>\n",
       "    </tr>\n",
       "    <tr>\n",
       "      <th>detector</th>\n",
       "      <th></th>\n",
       "      <th></th>\n",
       "    </tr>\n",
       "  </thead>\n",
       "  <tbody>\n",
       "    <tr>\n",
       "      <th>opencv</th>\n",
       "      <td>83.9</td>\n",
       "      <td>78.6</td>\n",
       "    </tr>\n",
       "  </tbody>\n",
       "</table>"
      ],
      "text/plain": [
       "<IPython.core.display.HTML object>"
      ]
     },
     "metadata": {},
     "output_type": "display_data"
    },
    {
     "data": {
      "text/html": [
       "<hr>"
      ],
      "text/plain": [
       "<IPython.core.display.HTML object>"
      ]
     },
     "metadata": {},
     "output_type": "display_data"
    },
    {
     "name": "stdout",
     "output_type": "stream",
     "text": [
      "euclidean for alignment True\n"
     ]
    },
    {
     "data": {
      "text/html": [
       "<table border=\"1\" class=\"dataframe\">\n",
       "  <thead>\n",
       "    <tr style=\"text-align: right;\">\n",
       "      <th></th>\n",
       "      <th>Facenet512</th>\n",
       "      <th>ArcFace</th>\n",
       "    </tr>\n",
       "    <tr>\n",
       "      <th>detector</th>\n",
       "      <th></th>\n",
       "      <th></th>\n",
       "    </tr>\n",
       "  </thead>\n",
       "  <tbody>\n",
       "    <tr>\n",
       "      <th>opencv</th>\n",
       "      <td>82.9</td>\n",
       "      <td>80.5</td>\n",
       "    </tr>\n",
       "  </tbody>\n",
       "</table>"
      ],
      "text/plain": [
       "<IPython.core.display.HTML object>"
      ]
     },
     "metadata": {},
     "output_type": "display_data"
    },
    {
     "data": {
      "text/html": [
       "<hr>"
      ],
      "text/plain": [
       "<IPython.core.display.HTML object>"
      ]
     },
     "metadata": {},
     "output_type": "display_data"
    },
    {
     "name": "stdout",
     "output_type": "stream",
     "text": [
      "cosine for alignment True\n"
     ]
    },
    {
     "data": {
      "text/html": [
       "<table border=\"1\" class=\"dataframe\">\n",
       "  <thead>\n",
       "    <tr style=\"text-align: right;\">\n",
       "      <th></th>\n",
       "      <th>Facenet512</th>\n",
       "      <th>ArcFace</th>\n",
       "    </tr>\n",
       "    <tr>\n",
       "      <th>detector</th>\n",
       "      <th></th>\n",
       "      <th></th>\n",
       "    </tr>\n",
       "  </thead>\n",
       "  <tbody>\n",
       "    <tr>\n",
       "      <th>opencv</th>\n",
       "      <td>83.5</td>\n",
       "      <td>79.5</td>\n",
       "    </tr>\n",
       "  </tbody>\n",
       "</table>"
      ],
      "text/plain": [
       "<IPython.core.display.HTML object>"
      ]
     },
     "metadata": {},
     "output_type": "display_data"
    },
    {
     "data": {
      "text/html": [
       "<hr>"
      ],
      "text/plain": [
       "<IPython.core.display.HTML object>"
      ]
     },
     "metadata": {},
     "output_type": "display_data"
    }
   ],
   "source": [
    "for align in alignment:\n",
    "    for metric in distance_metrics:\n",
    "        df = pd.read_csv(f\"results/pivot_{metric}_with_alignment_{align}.csv\")\n",
    "        df = df.rename(columns = {'Unnamed: 0': 'detector'})\n",
    "        df = df.set_index('detector')\n",
    "\n",
    "        print(f\"{metric} for alignment {align}\")\n",
    "        display(HTML(df.to_html()))\n",
    "        display(HTML(\"<hr>\"))"
   ]
  },
  {
   "cell_type": "code",
   "execution_count": 5,
   "id": "aef6dc64",
   "metadata": {},
   "outputs": [],
   "source": [
    "def create_github_table():\n",
    "    for metric in distance_metrics:\n",
    "        for align in [True, False]:\n",
    "            df = pd.read_csv(f\"results/pivot_{metric}_with_alignment_{align}.csv\")\n",
    "            df = df.rename(columns = {'Unnamed: 0': 'detector'})\n",
    "            df = df.set_index('detector')\n",
    "            \n",
    "            print(f\"Performance Matrix for {metric} while alignment is {align} \\n\")\n",
    "            header = \"| | \"\n",
    "            for col_name in df.columns.tolist():\n",
    "                header += f\"{col_name} |\"\n",
    "            print(header)\n",
    "            # -------------------------------\n",
    "            seperator = \"| --- | \"\n",
    "            for col_name in df.columns.tolist():\n",
    "                seperator += \" --- |\"\n",
    "            print(seperator)\n",
    "            # -------------------------------\n",
    "            for index, instance in df.iterrows():\n",
    "                line = f\"| {instance.name} |\"\n",
    "                for i in instance.values:\n",
    "                    if i < 97.5:\n",
    "                        line += f\"{i} |\"\n",
    "                    else:\n",
    "                        line += f\"**{i}** |\"\n",
    "                print(line)\n",
    "            \n",
    "            print(\"\\n---------------------------\")"
   ]
  },
  {
   "cell_type": "code",
   "execution_count": 6,
   "id": "5004caaa",
   "metadata": {},
   "outputs": [
    {
     "name": "stdout",
     "output_type": "stream",
     "text": [
      "Performance Matrix for euclidean while alignment is True \n",
      "\n",
      "| | Facenet512 |ArcFace |\n",
      "| --- |  --- | --- |\n",
      "| opencv |82.9 |80.5 |\n",
      "\n",
      "---------------------------\n",
      "Performance Matrix for euclidean while alignment is False \n",
      "\n",
      "| | Facenet512 |ArcFace |\n",
      "| --- |  --- | --- |\n",
      "| opencv |83.1 |80.6 |\n",
      "\n",
      "---------------------------\n",
      "Performance Matrix for cosine while alignment is True \n",
      "\n",
      "| | Facenet512 |ArcFace |\n",
      "| --- |  --- | --- |\n",
      "| opencv |83.5 |79.5 |\n",
      "\n",
      "---------------------------\n",
      "Performance Matrix for cosine while alignment is False \n",
      "\n",
      "| | Facenet512 |ArcFace |\n",
      "| --- |  --- | --- |\n",
      "| opencv |83.9 |78.6 |\n",
      "\n",
      "---------------------------\n"
     ]
    }
   ],
   "source": [
    "create_github_table()"
   ]
  },
  {
   "cell_type": "markdown",
   "id": "965c655f",
   "metadata": {},
   "source": [
    "# Alignment impact"
   ]
  },
  {
   "cell_type": "code",
   "execution_count": 7,
   "id": "6ce20a58",
   "metadata": {},
   "outputs": [
    {
     "data": {
      "text/html": [
       "<table border=\"1\" class=\"dataframe\">\n",
       "  <thead>\n",
       "    <tr style=\"text-align: right;\">\n",
       "      <th></th>\n",
       "      <th>max_alignment_impact</th>\n",
       "    </tr>\n",
       "  </thead>\n",
       "  <tbody>\n",
       "    <tr>\n",
       "      <th>ArcFace</th>\n",
       "      <td>0.9</td>\n",
       "    </tr>\n",
       "    <tr>\n",
       "      <th>Facenet512</th>\n",
       "      <td>-0.2</td>\n",
       "    </tr>\n",
       "  </tbody>\n",
       "</table>"
      ],
      "text/plain": [
       "<IPython.core.display.HTML object>"
      ]
     },
     "metadata": {},
     "output_type": "display_data"
    }
   ],
   "source": [
    "align_df = None\n",
    "\n",
    "for distance_metric in distance_metrics:\n",
    "    df1 = (\n",
    "        pd.read_csv(f\"results/pivot_{distance_metric}_with_alignment_True.csv\")\n",
    "        .rename(columns = {'Unnamed: 0': 'detector'})\n",
    "        .set_index('detector')\n",
    "    )\n",
    "    df2 = (\n",
    "        pd.read_csv(f\"results/pivot_{distance_metric}_with_alignment_False.csv\")\n",
    "        .rename(columns = {'Unnamed: 0': 'detector'})\n",
    "        .set_index('detector')\n",
    "    )\n",
    "    df1 = df1[df1.index != \"skip\"]\n",
    "    df2 = df2[df2.index != \"skip\"]\n",
    "    pivot_df = df1.subtract(df2)\n",
    "    \n",
    "    pivot_df = pivot_df.max()\n",
    "    pivot_df = pd.DataFrame(pivot_df, columns=[f'alignment_impact_of_{distance_metric}'])\n",
    "    # display(HTML(pivot_df.to_html()))\n",
    "\n",
    "    if align_df is None:\n",
    "        align_df = pivot_df.copy()\n",
    "    else:\n",
    "        align_df = align_df.merge(pivot_df, left_index=True, right_index=True)\n",
    "\n",
    "# display(HTML(align_df.to_html()))\n",
    "align_df = pd.DataFrame(align_df.max(axis=1), columns = [\"max_alignment_impact\"])\n",
    "align_df = align_df.sort_values(by=[\"max_alignment_impact\"], ascending=False)\n",
    "display(HTML(align_df.to_html()))"
   ]
  },
  {
   "cell_type": "markdown",
   "id": "f66e349f",
   "metadata": {},
   "source": [
    "## Detection impact"
   ]
  },
  {
   "cell_type": "code",
   "execution_count": null,
   "id": "34eca61b",
   "metadata": {},
   "outputs": [],
   "source": [
    "detect_df = None\n",
    "for distance_metric in distance_metrics:\n",
    "    tmp_df = (\n",
    "        pd.read_csv(f\"results/pivot_{distance_metric}_with_alignment_False.csv\")\n",
    "        .rename(columns = {'Unnamed: 0': 'detector'})\n",
    "        .set_index('detector')\n",
    "    )\n",
    "    ref_df = tmp_df[tmp_df.index == \"skip\"]\n",
    "    \n",
    "    j = []\n",
    "    for i in range(0, len(detectors) - 1):\n",
    "        j.append(ref_df)\n",
    "    minus_df = pd.concat(j)\n",
    "    \n",
    "    tmp_df = tmp_df[tmp_df.index != \"skip\"]\n",
    "    minus_df.index = tmp_df.index\n",
    "    \n",
    "    # print(\"performance with no detection\")\n",
    "    # display(HTML(ref_df.to_html()))\n",
    "    \n",
    "    # print(\"pivot\")\n",
    "    tmp_df = tmp_df.subtract(minus_df)\n",
    "    # display(HTML(tmp_df.to_html()))\n",
    "    \n",
    "    # print(\"avg of detector impact for models\")\n",
    "    # avg_df = pd.DataFrame(tmp_df.mean()).T\n",
    "    avg_df = pd.DataFrame(tmp_df.max(), columns=[f\"detection_impact_of_{distance_metric}\"])\n",
    "    # display(HTML(avg_df.to_html()))\n",
    "\n",
    "    if detect_df is None:\n",
    "        detect_df = avg_df.copy()\n",
    "    else:\n",
    "        detect_df = detect_df.merge(avg_df, left_index=True, right_index=True)\n",
    "\n",
    "# display(HTML(detect_df.to_html()))\n",
    "detect_df = pd.DataFrame(detect_df.max(axis=1), columns = [\"max_detection_impact\"])\n",
    "detect_df = detect_df.sort_values(by=[\"max_detection_impact\"], ascending=False)\n",
    "display(HTML(detect_df.to_html()))\n"
   ]
  },
  {
   "cell_type": "markdown",
   "id": "1bdf64a3",
   "metadata": {},
   "source": [
    "# facial recognition model's best scores"
   ]
  },
  {
   "cell_type": "code",
   "execution_count": 10,
   "id": "0cb1f232",
   "metadata": {},
   "outputs": [
    {
     "data": {
      "text/html": [
       "<div>\n",
       "<style scoped>\n",
       "    .dataframe tbody tr th:only-of-type {\n",
       "        vertical-align: middle;\n",
       "    }\n",
       "\n",
       "    .dataframe tbody tr th {\n",
       "        vertical-align: top;\n",
       "    }\n",
       "\n",
       "    .dataframe thead th {\n",
       "        text-align: right;\n",
       "    }\n",
       "</style>\n",
       "<table border=\"1\" class=\"dataframe\">\n",
       "  <thead>\n",
       "    <tr style=\"text-align: right;\">\n",
       "      <th></th>\n",
       "      <th>best_accuracy_score</th>\n",
       "    </tr>\n",
       "  </thead>\n",
       "  <tbody>\n",
       "    <tr>\n",
       "      <th>Human-beings</th>\n",
       "      <td>97.5</td>\n",
       "    </tr>\n",
       "    <tr>\n",
       "      <th>Facenet512</th>\n",
       "      <td>83.9</td>\n",
       "    </tr>\n",
       "    <tr>\n",
       "      <th>ArcFace</th>\n",
       "      <td>80.6</td>\n",
       "    </tr>\n",
       "  </tbody>\n",
       "</table>\n",
       "</div>"
      ],
      "text/plain": [
       "              best_accuracy_score\n",
       "Human-beings                 97.5\n",
       "Facenet512                   83.9\n",
       "ArcFace                      80.6"
      ]
     },
     "execution_count": 10,
     "metadata": {},
     "output_type": "execute_result"
    }
   ],
   "source": [
    "df = pd.DataFrame()\n",
    "for align in alignment:\n",
    "    for distance_metric in distance_metrics:\n",
    "        tmp_df = (\n",
    "            pd.read_csv(f\"results/pivot_{distance_metric}_with_alignment_{align}.csv\")\n",
    "            .rename(columns = {'Unnamed: 0': 'detector'})\n",
    "            .set_index('detector')\n",
    "        )\n",
    "        df = pd.concat([df, tmp_df])\n",
    "\n",
    "pivot_df = pd.DataFrame(df.max(), columns = [\"best_accuracy_score\"])\n",
    "\n",
    "# add human comparison\n",
    "pivot_df.loc[\"Human-beings\"] = 97.5\n",
    "\n",
    "pivot_df = pivot_df.sort_values(by = [\"best_accuracy_score\"], ascending = False)\n",
    "pivot_df"
   ]
  },
  {
   "cell_type": "markdown",
   "id": "b81ebe92",
   "metadata": {},
   "source": [
    "# ROC Curves"
   ]
  },
  {
   "cell_type": "code",
   "execution_count": 11,
   "id": "bcb4db0a",
   "metadata": {},
   "outputs": [],
   "source": [
    "def plot_roc(model_name, detector_backend, distance_metric, align):\n",
    "    alignment_text = \"aligned\" if align == True else \"unaligned\"\n",
    "\n",
    "    df = pd.read_csv(f\"outputs/test/{model_name}_{detector_backend}_{distance_metric}_{alignment_text}.csv\")\n",
    "    \n",
    "    #normalize\n",
    "    df[\"distances_normalized\"] = df[\"distances\"] / df[\"distances\"].max()\n",
    "    df[\"actuals_normalized\"] = 0\n",
    "    idx = df[df[\"actuals\"] == False].index\n",
    "    df.loc[idx, \"actuals_normalized\"] = 1\n",
    "    \n",
    "    y_actual = df[\"actuals_normalized\"].values.tolist()\n",
    "    y_pred_proba = df[\"distances_normalized\"].values.tolist()\n",
    "    \n",
    "    fpr, tpr, _ = metrics.roc_curve(y_actual, y_pred_proba)\n",
    "    auc = metrics.roc_auc_score(y_actual, y_pred_proba)\n",
    "    auc = round(auc, 4)\n",
    "\n",
    "    # best accuracy score\n",
    "    result_path = f\"results/pivot_{distance_metric}_with_alignment_{align}.csv\"\n",
    "    result_df = pd.read_csv(result_path)\n",
    "    acc = result_df[result_df[\"Unnamed: 0\"] == detector_backend][model_name].values[0]\n",
    "\n",
    "    label = f\"{model_name}_{detector_backend}_{distance_metric}_{alignment_text} (acc: {acc}, auc: {auc})\"\n",
    "\n",
    "    return acc, auc, fpr, tpr, label"
   ]
  },
  {
   "cell_type": "code",
   "execution_count": 16,
   "id": "84b3d5b5",
   "metadata": {
    "scrolled": false
   },
   "outputs": [
    {
     "data": {
      "image/png": "[encoded data removed]",
      "text/plain": [
       "<Figure size 1700x800 with 1 Axes>"
      ]
     },
     "metadata": {},
     "output_type": "display_data"
    }
   ],
   "source": [
    "# to show all models in same graph\n",
    "plt.figure(figsize=(17, 8))\n",
    "\n",
    "for model_name in models:\n",
    "    # to show graphs model by model\n",
    "    # plt.figure(figsize=(17, 8))\n",
    "    accs = []\n",
    "    aucs = []\n",
    "    fprs = []\n",
    "    tprs = []\n",
    "    labels = []\n",
    "    for distance_metric in distance_metrics:\n",
    "        # for detector_backend in robust_face_detectors:\n",
    "        for detector_backend in detectors:\n",
    "            for align in alignment:\n",
    "                if detector_backend == \"skip\" and align is True:\n",
    "                    continue\n",
    "                acc, auc, fpr, tpr, label = plot_roc(model_name, detector_backend, distance_metric, align)\n",
    "                accs.append(acc)\n",
    "                aucs.append(auc)\n",
    "                fprs.append(fpr)\n",
    "                tprs.append(tpr)\n",
    "                labels.append(label)\n",
    "    # ---------------------------------\n",
    "    #sort by auc\n",
    "    df = pd.DataFrame({\"acc\": accs, \"auc\": aucs, \"fpr\": fprs, \"tpr\": tprs, \"label\": labels})\n",
    "    # df = df.sort_values(by = [\"auc\"], ascending = False).reset_index()\n",
    "    df = df.sort_values(by = [\"acc\"], ascending = False).reset_index()\n",
    "    #print(labels)\n",
    "\n",
    "    for index, instance in df.iterrows():\n",
    "        fpr = instance[\"fpr\"]\n",
    "        tpr = instance[\"tpr\"]\n",
    "        auc = instance[\"auc\"]\n",
    "        acc = instance[\"acc\"]\n",
    "        label = instance[\"label\"]\n",
    "        \n",
    "        plt.plot(fpr, tpr, label=label)\n",
    "        plt.ylabel(\"True Positive Rate\")\n",
    "        plt.xlabel(\"False Positive Rate\")\n",
    "        plt.legend(loc=\"lower center\", ncol=2)\n",
    "        # normally this should be [0, 1] but that scale makes graphs not legible\n",
    "        # plt.xlim([0, 1])\n",
    "        plt.xlim([0, 0.3])\n",
    "\n",
    "        # to show the best auc value\n",
    "        break\n",
    "    \n",
    "    # to show graphs model by model\n",
    "    # plt.show()\n",
    "    # print(\"----------------\")\n",
    "\n",
    "# to show all models in same graph\n",
    "plt.show()"
   ]
  },
  {
   "cell_type": "code",
   "execution_count": null,
   "id": "661c5236",
   "metadata": {},
   "outputs": [],
   "source": []
  }
 ],
 "metadata": {
  "kernelspec": {
   "display_name": "Python 3 (ipykernel)",
   "language": "python",
   "name": "python3"
  },
  "language_info": {
   "codemirror_mode": {
    "name": "ipython",
    "version": 3
   },
   "file_extension": ".py",
   "mimetype": "text/x-python",
   "name": "python",
   "nbconvert_exporter": "python",
   "pygments_lexer": "ipython3",
   "version": "3.10.13"
  }
 },
 "nbformat": 4,
 "nbformat_minor": 5
}
